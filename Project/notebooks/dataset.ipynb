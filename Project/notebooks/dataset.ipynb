{
 "cells": [
  {
   "cell_type": "code",
   "execution_count": 1,
   "id": "32fe0c31-97b2-4d38-b78e-dcdbcef3d03a",
   "metadata": {},
   "outputs": [
    {
     "name": "stdout",
     "output_type": "stream",
     "text": [
      "▶️ 프로젝트 루트: C:\\Users\\USER\\Documents\\GitHub\\medication_object_detection_project_team2\\Project\n",
      "Python executable: C:\\Users\\USER\\AppData\\Local\\pypoetry\\Cache\\virtualenvs\\meditation-detection-project-ihVzpsAT-py3.11\\Scripts\\python.exe\n"
     ]
    }
   ],
   "source": [
    "import sys, os\n",
    "sys.argv = ['']  # argparse 충돌 방지용\n",
    "# 프로젝트 루트 경로를 조정하세요\n",
    "proj_root = os.path.abspath(os.path.join('..'))\n",
    "if proj_root not in sys.path:\n",
    "    sys.path.insert(0, proj_root)\n",
    "print(\"▶️ 프로젝트 루트:\", proj_root)\n",
    "print(\"Python executable:\", sys.executable)"
   ]
  },
  {
   "cell_type": "code",
   "execution_count": 2,
   "id": "077407e3-27e6-4587-bc84-aa8d4be01a59",
   "metadata": {},
   "outputs": [
    {
     "name": "stdout",
     "output_type": "stream",
     "text": [
      "▶ Device       : cuda\n",
      "▶ cfg          : Namespace(device='cuda', num_epochs=100, num_classes=44199, batch_size=16, lr=0.001, lrf=0.01, lr_scheduler='StepLR', optimizer='SGD', num_workers=0, weight_decay=0.0005, confidence_threshold=0.5, momentum=0.9, tune=False, iterations=300, tune_epochs=30, hyp_path=None, base_dir=WindowsPath('C:/Users/USER/Documents/GitHub/medication_object_detection_project_team2'), data_dir=WindowsPath('C:/Users/USER/Documents/GitHub/medication_object_detection_project_team2/data/ai03-level1-project'), train_image_dir=WindowsPath('C:/Users/USER/Documents/GitHub/medication_object_detection_project_team2/data/ai03-level1-project/train_images'), test_image_dir=WindowsPath('C:/Users/USER/Documents/GitHub/medication_object_detection_project_team2/data/ai03-level1-project/test_images'), annotation_dir=WindowsPath('C:/Users/USER/Documents/GitHub/medication_object_detection_project_team2/data/ai03-level1-project/train_annotations'), output_dir=WindowsPath('C:/Users/USER/Documents/GitHub/medication_object_detection_project_team2/Project/outputs'), checkpoint_dir=WindowsPath('C:/Users/USER/Documents/GitHub/medication_object_detection_project_team2/Project/outputs/checkpoints'), model_checkpoint=WindowsPath('C:/Users/USER/Documents/GitHub/medication_object_detection_project_team2/Project/outputs/checkpoints/pill_detector_best.pth'), log_dir=WindowsPath('C:/Users/USER/Documents/GitHub/medication_object_detection_project_team2/Project/outputs/logs'))\n"
     ]
    }
   ],
   "source": [
    "from src.config import get_config, get_device\n",
    "device = get_device()\n",
    "print(f\"▶ Device       : {device}\")\n",
    "cfg    = get_config()\n",
    "print(f\"▶ cfg          : {cfg}\")"
   ]
  },
  {
   "cell_type": "code",
   "execution_count": 3,
   "id": "c42f9130-a832-49dc-97b5-d7481ed62428",
   "metadata": {},
   "outputs": [
    {
     "name": "stdout",
     "output_type": "stream",
     "text": [
      "✅ 모든 클래스가 학습/검증 세트에 최소 1개씩 포함되어 있습니다.\n",
      "▶ Train images: 504, rows: 1900\n",
      "▶  Val images: 125, rows: 471\n"
     ]
    }
   ],
   "source": [
    "import pandas as pd\n",
    "import random\n",
    "from pathlib import Path\n",
    "\n",
    "# 1) 원본 어노테이션 로드\n",
    "df = pd.read_csv('excluded_annotations.csv')\n",
    "\n",
    "# 2) 이미지 리스트와 클래스→이미지 매핑 생성\n",
    "all_images = df['images_file_name'].unique().tolist()\n",
    "class_to_images = {\n",
    "    cls: set(group['images_file_name'])\n",
    "    for cls, group in df.groupby('categories_id')\n",
    "}\n",
    "\n",
    "# 3) 각 클래스별로 1장씩 검증세트에 할당\n",
    "random.seed(42)\n",
    "val_images = set()\n",
    "for cls, imgs in class_to_images.items():\n",
    "    val_images.add(random.choice(list(imgs)))\n",
    "\n",
    "# 4) 원하는 검증 비율(예: 20%) 고려하여 추가 이미지 선택\n",
    "val_ratio     = 0.2\n",
    "n_total       = len(all_images)\n",
    "n_desired_val = int(n_total * val_ratio)\n",
    "remaining     = list(set(all_images) - val_images)\n",
    "n_additional  = max(0, n_desired_val - len(val_images))\n",
    "if n_additional > 0:\n",
    "    val_images.update(random.sample(remaining, n_additional))\n",
    "\n",
    "# 5) 최종 train/val 이미지 집합\n",
    "train_images = set(all_images) - val_images\n",
    "\n",
    "# 6) DataFrame 필터링 (순서를 검증 코드 앞에)\n",
    "train_df = df[df['images_file_name'].isin(train_images)]\n",
    "val_df   = df[df['images_file_name'].isin(val_images)]\n",
    "\n",
    "# 7) train_df, val_df 검증\n",
    "all_classes = df['categories_id'].unique()\n",
    "bad = []\n",
    "for cls in all_classes:\n",
    "    if (train_df['categories_id'] == cls).sum() == 0:\n",
    "        bad.append(f\"{cls}번 클래스가 학습 세트에 없음\")\n",
    "    if (val_df['categories_id'] == cls).sum() == 0:\n",
    "        bad.append(f\"{cls}번 클래스가 검증 세트에 없음\")\n",
    "\n",
    "if not bad:\n",
    "    print(\"✅ 모든 클래스가 학습/검증 세트에 최소 1개씩 포함되어 있습니다.\")\n",
    "else:\n",
    "    print(\"❌ 문제가 있는 클래스:\\n\" + \"\\n\".join(bad))\n",
    "\n",
    "# 8) CSV 저장\n",
    "train_df.to_csv('train_annotations.csv', index=False)\n",
    "val_df.to_csv('val_annotations.csv',   index=False)\n",
    "\n",
    "print(f\"▶ Train images: {len(train_images)}, rows: {len(train_df)}\")\n",
    "print(f\"▶  Val images: {len(val_images)}, rows: {len(val_df)}\")\n"
   ]
  }
 ],
 "metadata": {
  "kernelspec": {
   "display_name": "MedPills (poetry)",
   "language": "python",
   "name": "medpills-poetry"
  },
  "language_info": {
   "codemirror_mode": {
    "name": "ipython",
    "version": 3
   },
   "file_extension": ".py",
   "mimetype": "text/x-python",
   "name": "python",
   "nbconvert_exporter": "python",
   "pygments_lexer": "ipython3",
   "version": "3.11.9"
  }
 },
 "nbformat": 4,
 "nbformat_minor": 5
}

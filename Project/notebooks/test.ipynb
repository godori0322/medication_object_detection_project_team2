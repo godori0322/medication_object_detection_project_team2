version https://git-lfs.github.com/spec/v1
oid sha256:40130a628e5366bd6ac5b6b7c7e40626b4e9dfde51d50684184c0bf2d88379e5
size 405024444

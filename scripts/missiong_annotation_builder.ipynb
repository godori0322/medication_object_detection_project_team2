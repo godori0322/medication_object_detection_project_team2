{
 "cells": [
  {
   "cell_type": "code",
   "execution_count": 26,
   "id": "29d9041a",
   "metadata": {},
   "outputs": [],
   "source": [
    "import os\n",
    "import json\n",
    "\n",
    "from shutil import copyfile"
   ]
  },
  {
   "cell_type": "code",
   "execution_count": 21,
   "id": "616ed8ab",
   "metadata": {},
   "outputs": [],
   "source": [
    "ann_path = '../data/ai03-level1-project/train_annotations'\n",
    "ann_folder_list = os.listdir(ann_path)"
   ]
  },
  {
   "cell_type": "code",
   "execution_count": null,
   "id": "a0579327",
   "metadata": {},
   "outputs": [
    {
     "name": "stdout",
     "output_type": "stream",
     "text": [
      "len(keys) != len(target_folders) K-003351-019232-020238_json\n",
      "len(keys) != len(target_folders) K-003483-016262-020877-022347_json\n",
      "len(keys) != len(target_folders) K-003483-016232-020877-022347_json\n",
      "len(keys) != len(target_folders) K-002483-005094-012081-019552_json\n",
      "len(keys) != len(target_folders) K-003544-006563-016548-033878_json\n",
      "len(keys) != len(target_folders) K-003483-027653-031885-036637_json\n",
      "len(keys) != len(target_folders) K-003483-019861-028763-029667_json\n",
      "len(keys) != len(target_folders) K-003483-016232-027653-034597_json\n",
      "len(keys) != len(target_folders) K-003483-016262-027733-031885_json\n",
      "len(keys) != len(target_folders) K-003483-027777-034597-036637_json\n",
      "len(keys) != len(target_folders) K-003483-016232-027653-031885_json\n",
      "len(keys) != len(target_folders) K-002483-012081-023223-025438_json\n",
      "len(keys) != len(target_folders) K-002483-003743-012081-022627_json\n",
      "len(keys) != len(target_folders) K-003483-016232-022347-027653_json\n"
     ]
    },
    {
     "ename": "IndexError",
     "evalue": "list index out of range",
     "output_type": "error",
     "traceback": [
      "\u001b[31m---------------------------------------------------------------------------\u001b[39m",
      "\u001b[31mIndexError\u001b[39m                                Traceback (most recent call last)",
      "\u001b[36mCell\u001b[39m\u001b[36m \u001b[39m\u001b[32mIn[27]\u001b[39m\u001b[32m, line 49\u001b[39m\n\u001b[32m     45\u001b[39m               \u001b[38;5;28;01mwith\u001b[39;00m \u001b[38;5;28mopen\u001b[39m(copy_filepath, \u001b[33m'\u001b[39m\u001b[33mw\u001b[39m\u001b[33m'\u001b[39m, encoding=\u001b[33m'\u001b[39m\u001b[33mutf-8\u001b[39m\u001b[33m'\u001b[39m) \u001b[38;5;28;01mas\u001b[39;00m f:\n\u001b[32m     46\u001b[39m                   json.dump(ann, f, indent=\u001b[32m4\u001b[39m, ensure_ascii=\u001b[38;5;28;01mFalse\u001b[39;00m)\n\u001b[32m---> \u001b[39m\u001b[32m49\u001b[39m \u001b[43mmake_loss_file\u001b[49m\u001b[43m(\u001b[49m\u001b[43m)\u001b[49m\n",
      "\u001b[36mCell\u001b[39m\u001b[36m \u001b[39m\u001b[32mIn[27]\u001b[39m\u001b[32m, line 29\u001b[39m, in \u001b[36mmake_loss_file\u001b[39m\u001b[34m()\u001b[39m\n\u001b[32m     27\u001b[39m   \u001b[38;5;28;01mcontinue\u001b[39;00m\n\u001b[32m     28\u001b[39m \u001b[38;5;28;01melif\u001b[39;00m \u001b[38;5;28mlen\u001b[39m(tt) < \u001b[32m3\u001b[39m:\n\u001b[32m---> \u001b[39m\u001b[32m29\u001b[39m   ttemp = \u001b[43m[\u001b[49m\u001b[43m(\u001b[49m\u001b[43mi\u001b[49m\u001b[43m.\u001b[49m\u001b[43msplit\u001b[49m\u001b[43m(\u001b[49m\u001b[33;43m'\u001b[39;49m\u001b[33;43m0_2_0_2_\u001b[39;49m\u001b[33;43m'\u001b[39;49m\u001b[43m)\u001b[49m\u001b[43m[\u001b[49m\u001b[32;43m1\u001b[39;49m\u001b[43m]\u001b[49m\u001b[43m)\u001b[49m\u001b[43m.\u001b[49m\u001b[43msplit\u001b[49m\u001b[43m(\u001b[49m\u001b[33;43m'\u001b[39;49m\u001b[33;43m_000_\u001b[39;49m\u001b[33;43m'\u001b[39;49m\u001b[43m)\u001b[49m\u001b[43m[\u001b[49m\u001b[32;43m0\u001b[39;49m\u001b[43m]\u001b[49m\u001b[43m \u001b[49m\u001b[38;5;28;43;01mfor\u001b[39;49;00m\u001b[43m \u001b[49m\u001b[43mi\u001b[49m\u001b[43m \u001b[49m\u001b[38;5;129;43;01min\u001b[39;49;00m\u001b[43m \u001b[49m\u001b[43mtt\u001b[49m\u001b[43m]\u001b[49m\n\u001b[32m     31\u001b[39m   \u001b[38;5;28;01mfor\u001b[39;00m i \u001b[38;5;129;01min\u001b[39;00m temp:\n\u001b[32m     32\u001b[39m     \u001b[38;5;28;01mif\u001b[39;00m i \u001b[38;5;129;01mnot\u001b[39;00m \u001b[38;5;129;01min\u001b[39;00m ttemp:\n",
      "\u001b[36mCell\u001b[39m\u001b[36m \u001b[39m\u001b[32mIn[27]\u001b[39m\u001b[32m, line 29\u001b[39m, in \u001b[36m<listcomp>\u001b[39m\u001b[34m(.0)\u001b[39m\n\u001b[32m     27\u001b[39m   \u001b[38;5;28;01mcontinue\u001b[39;00m\n\u001b[32m     28\u001b[39m \u001b[38;5;28;01melif\u001b[39;00m \u001b[38;5;28mlen\u001b[39m(tt) < \u001b[32m3\u001b[39m:\n\u001b[32m---> \u001b[39m\u001b[32m29\u001b[39m   ttemp = [(\u001b[43mi\u001b[49m\u001b[43m.\u001b[49m\u001b[43msplit\u001b[49m\u001b[43m(\u001b[49m\u001b[33;43m'\u001b[39;49m\u001b[33;43m0_2_0_2_\u001b[39;49m\u001b[33;43m'\u001b[39;49m\u001b[43m)\u001b[49m\u001b[43m[\u001b[49m\u001b[32;43m1\u001b[39;49m\u001b[43m]\u001b[49m).split(\u001b[33m'\u001b[39m\u001b[33m_000_\u001b[39m\u001b[33m'\u001b[39m)[\u001b[32m0\u001b[39m] \u001b[38;5;28;01mfor\u001b[39;00m i \u001b[38;5;129;01min\u001b[39;00m tt]\n\u001b[32m     31\u001b[39m   \u001b[38;5;28;01mfor\u001b[39;00m i \u001b[38;5;129;01min\u001b[39;00m temp:\n\u001b[32m     32\u001b[39m     \u001b[38;5;28;01mif\u001b[39;00m i \u001b[38;5;129;01mnot\u001b[39;00m \u001b[38;5;129;01min\u001b[39;00m ttemp:\n",
      "\u001b[31mIndexError\u001b[39m: list index out of range"
     ]
    }
   ],
   "source": [
    "\n",
    "def make_loss_file():\n",
    "  temp = ['70', '75', '90']\n",
    "\n",
    "  # train_annotations/K-003544-012247-016548-027926_json\n",
    "  for folder_name in ann_folder_list:\n",
    "    # [003544, 012247, 016548, 027926]\n",
    "    keys = (folder_name.split('_json')[0]).split('-')[1:]\n",
    "\n",
    "    # train_annotations/K-003544-012247-016548-027926_json/K-003544\n",
    "    target_path = os.path.join(ann_path, folder_name)\n",
    "\n",
    "    # [K-003544, K-012247, K-016548, K-027926]\n",
    "    target_folders = os.listdir(target_path)\n",
    "\n",
    "    if len(keys) != len(target_folders):\n",
    "      # 폴더 자체가 없는경우는 메모만\n",
    "      print(f\"len(keys) != len(target_folders) {folder_name}\")\n",
    "\n",
    "    for t in target_folders:\n",
    "      # 003544\n",
    "      if t.split('-')[1] in keys:\n",
    "        path3 = os.path.join(target_path, t)\n",
    "\n",
    "        # [...json]\n",
    "        tt = os.listdir(path3)\n",
    "        if len(tt) == 0:\n",
    "          continue\n",
    "        elif len(tt) < 3:\n",
    "          ttemp = [(i.split('0_2_0_2_')[1]).split('_000_')[0] for i in tt]\n",
    "\n",
    "          for i in temp:\n",
    "            if i not in ttemp:\n",
    "              origin_filepath = os.path.join(path3, tt[0])\n",
    "              copy_filename = f\"{(tt[0].split('_000_')[0][:-2])}{i}_000_200\"\n",
    "              copy_filepath = os.path.join(path3, f'{copy_filename}.json')\n",
    "              copyfile(origin_filepath, copy_filepath)\n",
    "\n",
    "              with open(copy_filepath, 'r', encoding='utf-8') as f:\n",
    "                ann = json.load(f)\n",
    "              # 값 수정\n",
    "              ann[\"images\"][0][\"file_name\"] = f'{copy_filename}.png'\n",
    "              ann[\"images\"][0][\"imgfile\"] = f'{copy_filename}.png'\n",
    "\n",
    "              # JSON 파일 덮어쓰기\n",
    "              with open(copy_filepath, 'w', encoding='utf-8') as f:\n",
    "                  json.dump(ann, f, indent=4, ensure_ascii=False)\n",
    "\n",
    "make_loss_file()"
   ]
  },
  {
   "cell_type": "code",
   "execution_count": null,
   "id": "a4636879",
   "metadata": {},
   "outputs": [],
   "source": []
  }
 ],
 "metadata": {
  "kernelspec": {
   "display_name": "meditation-detection-project-PhlZbUVN-py3.11",
   "language": "python",
   "name": "python3"
  },
  "language_info": {
   "codemirror_mode": {
    "name": "ipython",
    "version": 3
   },
   "file_extension": ".py",
   "mimetype": "text/x-python",
   "name": "python",
   "nbconvert_exporter": "python",
   "pygments_lexer": "ipython3",
   "version": "3.11.9"
  }
 },
 "nbformat": 4,
 "nbformat_minor": 5
}

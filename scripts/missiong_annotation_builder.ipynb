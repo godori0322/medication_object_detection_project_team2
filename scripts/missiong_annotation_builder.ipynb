{
 "cells": [
  {
   "cell_type": "code",
   "execution_count": 14,
   "id": "29d9041a",
   "metadata": {},
   "outputs": [],
   "source": [
    "import os\n",
    "import json\n",
    "\n",
    "from shutil import copyfile"
   ]
  },
  {
   "cell_type": "code",
   "execution_count": 15,
   "id": "616ed8ab",
   "metadata": {},
   "outputs": [],
   "source": [
    "ann_path = '../data/ai03-level1-project/train_annotations'\n",
    "ann_folder_list = os.listdir(ann_path)\n",
    "ann_folder_list = sorted(ann_folder_list)"
   ]
  },
  {
   "cell_type": "code",
   "execution_count": 16,
   "id": "a0579327",
   "metadata": {},
   "outputs": [
    {
     "name": "stdout",
     "output_type": "stream",
     "text": [
      "len(keys) != len(target_folders) K-002483-003743-012081-022627_json\n",
      "len(keys) != len(target_folders) K-002483-005094-012081-019552_json\n",
      "len(keys) != len(target_folders) K-002483-012081-023223-025438_json\n",
      "len(keys) != len(target_folders) K-003351-019232-020238_json\n",
      "except key:  K-003351-019232-029667_json\n",
      "except key:  K-003351-019232-029667_json\n",
      "except key:  K-003351-019232-029667_json\n",
      "except key:  K-003351-020014-036637_json\n",
      "except key:  K-003351-020014-036637_json\n",
      "len(keys) != len(target_folders) K-003483-016232-020877-022347_json\n",
      "len(keys) != len(target_folders) K-003483-016232-022347-027653_json\n",
      "len(keys) != len(target_folders) K-003483-016232-027653-031885_json\n",
      "len(keys) != len(target_folders) K-003483-016232-027653-034597_json\n",
      "len(keys) != len(target_folders) K-003483-016262-020877-022347_json\n",
      "len(keys) != len(target_folders) K-003483-016262-027733-031885_json\n",
      "len(keys) != len(target_folders) K-003483-019861-028763-029667_json\n",
      "len(keys) != len(target_folders) K-003483-025469-034597-035206_json\n",
      "len(keys) != len(target_folders) K-003483-027653-031885-036637_json\n",
      "len(keys) != len(target_folders) K-003483-027777-034597-036637_json\n",
      "len(keys) != len(target_folders) K-003544-006563-016548-033878_json\n"
     ]
    }
   ],
   "source": [
    "\n",
    "def make_loss_file():\n",
    "  temp = ['70', '75', '90']\n",
    "\n",
    "  # train_annotations/K-003544-012247-016548-027926_json\n",
    "  for folder_name in ann_folder_list:\n",
    "    if '001900-16551-033009-0332' in folder_name:\n",
    "      print(folder_name)\n",
    "      pass\n",
    "\t\n",
    "    # [003544, 012247, 016548, 027926]\n",
    "    keys = (folder_name.split('_json')[0]).split('-')[1:]\n",
    "\n",
    "    # train_annotations/K-003544-012247-016548-027926_json/K-003544\n",
    "    target_path = os.path.join(ann_path, folder_name)\n",
    "\n",
    "    # [K-003544, K-012247, K-016548, K-027926]\n",
    "    target_folders = os.listdir(target_path)\n",
    "\n",
    "    if len(keys) != len(target_folders):\n",
    "      # 폴더 자체가 없는경우는 메모만\n",
    "      print(f\"len(keys) != len(target_folders) {folder_name}\")\n",
    "\n",
    "    for t in target_folders:\n",
    "      # 003544\n",
    "      if t.split('-')[1] in keys:\n",
    "        path3 = os.path.join(target_path, t)\n",
    "\n",
    "        # [...json]\n",
    "        tt = os.listdir(path3)\n",
    "        if len(tt) == 0:\n",
    "          continue\n",
    "        elif len(tt) < 3:\n",
    "          try:\n",
    "            ttemp = [(i.split('0_2_0_2_')[1]).split('_000_')[0] for i in tt]\n",
    "          except:\n",
    "            print('except key: ', folder_name)\n",
    "            ttemp = [(i.split('0_2_1_2_')[1]).split('_000_')[0] for i in tt]\n",
    "\n",
    "          for i in temp:\n",
    "            if i not in ttemp:\n",
    "              origin_filepath = os.path.join(path3, tt[0])\n",
    "              copy_filename = f\"{(tt[0].split('_000_')[0][:-2])}{i}_000_200\"\n",
    "              copy_filepath = os.path.join(path3, f'{copy_filename}.json')\n",
    "              copyfile(origin_filepath, copy_filepath)\n",
    "\n",
    "              with open(copy_filepath, 'r', encoding='utf-8') as f:\n",
    "                ann = json.load(f)\n",
    "              # 값 수정\n",
    "              ann[\"images\"][0][\"file_name\"] = f'{copy_filename}.png'\n",
    "              ann[\"images\"][0][\"imgfile\"] = f'{copy_filename}.png'\n",
    "\n",
    "              # JSON 파일 덮어쓰기\n",
    "              with open(copy_filepath, 'w', encoding='utf-8') as f:\n",
    "                  json.dump(ann, f, indent=4, ensure_ascii=False)\n",
    "\n",
    "make_loss_file()"
   ]
  }
 ],
 "metadata": {
  "kernelspec": {
   "display_name": "meditation-detection-project-PhlZbUVN-py3.11",
   "language": "python",
   "name": "python3"
  },
  "language_info": {
   "codemirror_mode": {
    "name": "ipython",
    "version": 3
   },
   "file_extension": ".py",
   "mimetype": "text/x-python",
   "name": "python",
   "nbconvert_exporter": "python",
   "pygments_lexer": "ipython3",
   "version": "3.11.9"
  }
 },
 "nbformat": 4,
 "nbformat_minor": 5
}
